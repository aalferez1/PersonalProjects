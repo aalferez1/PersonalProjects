{
 "cells": [
  {
   "cell_type": "code",
   "execution_count": null,
   "id": "825d67fe",
   "metadata": {},
   "outputs": [],
   "source": [
    "#This takes a portfolio and determines the optimal weights for each stock in the portfolio based on historical data."
   ]
  },
  {
   "cell_type": "code",
   "execution_count": 5,
   "id": "a6cdb338",
   "metadata": {},
   "outputs": [],
   "source": [
    "import pandas as pd \n",
    "from datetime import datetime, timedelta\n",
    "import numpy as np\n",
    "from scipy.optimize import minimize\n",
    "import yfinance as yf"
   ]
  },
  {
   "cell_type": "code",
   "execution_count": 6,
   "id": "514a415c",
   "metadata": {},
   "outputs": [],
   "source": [
    "#list that holds tickers\n",
    "tickers = ['VXUS', 'VOO', 'SCHB', 'QQQ']\n",
    "#SPY = most popular S&P 500 Index\n",
    "#BND = most popular bond index\n",
    "#GLD = largest comodity based etf\n",
    "#QQQ = NASDAQ\n",
    "#VTI = world stock market"
   ]
  },
  {
   "cell_type": "code",
   "execution_count": 7,
   "id": "9a98cefc",
   "metadata": {},
   "outputs": [],
   "source": [
    "end_date = datetime.today()"
   ]
  },
  {
   "cell_type": "code",
   "execution_count": 8,
   "id": "ddf1940c",
   "metadata": {},
   "outputs": [
    {
     "name": "stdout",
     "output_type": "stream",
     "text": [
      "Start date =  2020-07-07 01:38:32.640644\n"
     ]
    }
   ],
   "source": [
    "start_date = end_date - timedelta(days = 5*365)\n",
    "print(\"Start date = \", start_date)"
   ]
  },
  {
   "cell_type": "code",
   "execution_count": 9,
   "id": "69b7be86",
   "metadata": {},
   "outputs": [],
   "source": [
    "#creating an empty dataframe for adjusted close prices\n",
    "adj_close_df = pd.DataFrame()"
   ]
  },
  {
   "cell_type": "code",
   "execution_count": 10,
   "id": "c14f4330",
   "metadata": {},
   "outputs": [
    {
     "name": "stderr",
     "output_type": "stream",
     "text": [
      "[*********************100%***********************]  1 of 1 completed\n",
      "[*********************100%***********************]  1 of 1 completed\n",
      "[*********************100%***********************]  1 of 1 completed\n",
      "[*********************100%***********************]  1 of 1 completed\n"
     ]
    }
   ],
   "source": [
    "for ticker in tickers:\n",
    "    data = yf.download(ticker, start = start_date, end = end_date, auto_adjust= True)\n",
    "    adj_close_df[ticker] = data['Close']"
   ]
  },
  {
   "cell_type": "code",
   "execution_count": 11,
   "id": "1d9d073d",
   "metadata": {},
   "outputs": [
    {
     "name": "stdout",
     "output_type": "stream",
     "text": [
      "                 VXUS         VOO       SCHB         QQQ\n",
      "Date                                                    \n",
      "2020-07-07  43.319935  267.584351  11.983038  249.179794\n",
      "2020-07-08  43.876854  269.571045  12.081129  252.461899\n",
      "2020-07-09  43.491291  268.197113  12.015199  254.588547\n",
      "2020-07-10  43.714058  270.889252  12.142235  256.326721\n",
      "2020-07-13  43.431324  268.438568  12.007158  251.053909\n",
      "...               ...         ...        ...         ...\n",
      "2025-06-27  68.910004  565.205017  23.709999  548.090027\n",
      "2025-06-30  69.089996  568.030029  23.830000  551.640015\n",
      "2025-07-01  69.110001  567.770020  23.820000  546.989990\n",
      "2025-07-02  69.330002  570.289978  23.950001  550.799988\n",
      "2025-07-03  69.489998  575.219971  24.139999  556.219971\n",
      "\n",
      "[1255 rows x 4 columns]\n"
     ]
    }
   ],
   "source": [
    "print(adj_close_df)"
   ]
  },
  {
   "cell_type": "code",
   "execution_count": 12,
   "id": "0163ae43",
   "metadata": {},
   "outputs": [
    {
     "name": "stdout",
     "output_type": "stream",
     "text": [
      "                VXUS       VOO      SCHB       QQQ\n",
      "Date                                              \n",
      "2020-07-07       NaN       NaN       NaN       NaN\n",
      "2020-07-08  0.012774  0.007397  0.008153  0.013086\n",
      "2020-07-09 -0.008826 -0.005110 -0.005472  0.008388\n",
      "2020-07-10  0.005109  0.009988  0.010517  0.006804\n",
      "2020-07-13 -0.006489 -0.009088 -0.011187 -0.020785\n",
      "...              ...       ...       ...       ...\n",
      "2025-06-27  0.004072  0.004951  0.005074  0.003418\n",
      "2025-06-30  0.002609  0.004986  0.005048  0.006456\n",
      "2025-07-01  0.000289 -0.000458 -0.000420 -0.008465\n",
      "2025-07-02  0.003178  0.004429  0.005443  0.006941\n",
      "2025-07-03  0.002305  0.008608  0.007902  0.009792\n",
      "\n",
      "[1255 rows x 4 columns]\n"
     ]
    }
   ],
   "source": [
    "#lognormal returns for each ticker\n",
    "log_returns = np.log(adj_close_df / adj_close_df.shift(1))\n",
    "print(log_returns)"
   ]
  },
  {
   "cell_type": "code",
   "execution_count": 13,
   "id": "19c79a03",
   "metadata": {},
   "outputs": [],
   "source": [
    "log_returns= log_returns.dropna()\n",
    "#makes sure that calculations dont get screwed up by any missing information from downloaded info"
   ]
  },
  {
   "cell_type": "code",
   "execution_count": 14,
   "id": "01a3ed2f",
   "metadata": {},
   "outputs": [
    {
     "name": "stdout",
     "output_type": "stream",
     "text": [
      "          VXUS       VOO      SCHB       QQQ\n",
      "VXUS  0.025421  0.022332  0.023165  0.027442\n",
      "VOO   0.022332  0.029968  0.030602  0.038072\n",
      "SCHB  0.023165  0.030602  0.031563  0.038959\n",
      "QQQ   0.027442  0.038072  0.038959  0.054973\n"
     ]
    }
   ],
   "source": [
    "cov_matrix = log_returns.cov()*252\n",
    "print(cov_matrix)\n",
    "#calculating the covariance matrix using annualized log returns"
   ]
  },
  {
   "cell_type": "code",
   "execution_count": 15,
   "id": "a52f5361",
   "metadata": {},
   "outputs": [],
   "source": [
    "#calculating risk from portfolio standard deviation\n",
    "def standard_deviation(weights, cov_matrix):\n",
    "    variance = weights.T @ cov_matrix @ weights #.T transposes the weights variable @ means multiplying 2 matrices together\n",
    "    return np.sqrt(variance)"
   ]
  },
  {
   "cell_type": "code",
   "execution_count": 16,
   "id": "1aa7e631",
   "metadata": {},
   "outputs": [],
   "source": [
    "def expected_return(weights, log_returns):\n",
    "    return np.sum(weights * log_returns.mean()) * 252 #252 trading days in a year\n"
   ]
  },
  {
   "cell_type": "code",
   "execution_count": 17,
   "id": "9221eafb",
   "metadata": {},
   "outputs": [],
   "source": [
    "def sharpe_ratio(weights, log_returns, cov_matrix, risk_free_rate):\n",
    "    return (expected_return(weights, log_returns) - risk_free_rate) / standard_deviation(weights, cov_matrix)"
   ]
  },
  {
   "cell_type": "code",
   "execution_count": 18,
   "id": "0e3c3557",
   "metadata": {},
   "outputs": [],
   "source": [
    "risk_free_rate = 0.0175 #10 year treasury yield"
   ]
  },
  {
   "cell_type": "code",
   "execution_count": 20,
   "id": "3954f61e",
   "metadata": {},
   "outputs": [
    {
     "name": "stdout",
     "output_type": "stream",
     "text": [
      "Risk free rate =  0.0438\n"
     ]
    }
   ],
   "source": [
    "from fredapi import Fred \n",
    "fred = Fred(api_key='8f24635b2a3763bcb7578881a722929c ')\n",
    "ten_year_treasury_rate = fred.get_series_latest_release('GS10') / 100\n",
    "\n",
    "#set risk free rate to 10 year treasury yield\n",
    "risk_free_rate = ten_year_treasury_rate.iloc[-1] #latest value\n",
    "print(\"Risk free rate = \", risk_free_rate)"
   ]
  },
  {
   "cell_type": "code",
   "execution_count": 21,
   "id": "28c29cc9",
   "metadata": {},
   "outputs": [],
   "source": [
    "def neg_sharpe_ratio(weights, log_returns, cov_matrix, risk_free_rate):\n",
    "    return -sharpe_ratio(weights, log_returns, cov_matrix, risk_free_rate)"
   ]
  },
  {
   "cell_type": "code",
   "execution_count": 22,
   "id": "33491559",
   "metadata": {},
   "outputs": [],
   "source": [
    "constraints = ({'type': 'eq', 'fun': lambda x: np.sum(x) - 1}) #weights must sum to 1\n",
    "bounds = [(0, 0.5) for _ in range(len(tickers))] #weights must be between 0 and 0.5"
   ]
  },
  {
   "cell_type": "code",
   "execution_count": 23,
   "id": "4d0e4501",
   "metadata": {},
   "outputs": [
    {
     "name": "stdout",
     "output_type": "stream",
     "text": [
      "[0.25 0.25 0.25 0.25]\n"
     ]
    }
   ],
   "source": [
    "initial_weights = np.array(len(tickers) * [1. / len(tickers)]) #initial guess is equal weights\n",
    "\n",
    "print(initial_weights)"
   ]
  },
  {
   "cell_type": "code",
   "execution_count": 24,
   "id": "6e14f0f6",
   "metadata": {},
   "outputs": [],
   "source": [
    "optimized_results = minimize(neg_sharpe_ratio, initial_weights, args=(log_returns, cov_matrix, risk_free_rate), method='SLSQP', bounds=bounds, constraints=constraints)\n"
   ]
  },
  {
   "cell_type": "code",
   "execution_count": 25,
   "id": "2b4e1031",
   "metadata": {},
   "outputs": [],
   "source": [
    "optimal_weights = optimized_results.x"
   ]
  },
  {
   "cell_type": "code",
   "execution_count": 26,
   "id": "4c7ebe0e",
   "metadata": {},
   "outputs": [
    {
     "name": "stdout",
     "output_type": "stream",
     "text": [
      "Optimal Weights:\n",
      "VXUS: 0.0000\n",
      "VOO: 0.5000\n",
      "SCHB: 0.5000\n",
      "QQQ: 0.0000\n",
      "\n",
      "Expected annual return: 14.73%\n",
      "Annual volatility: 17.52%\n",
      "Sharpe Ratio: 0.59\n"
     ]
    }
   ],
   "source": [
    "print(\"Optimal Weights:\")\n",
    "for ticker, weight in zip(tickers, optimal_weights):\n",
    "    print(f\"{ticker}: {weight:.4f}\")\n",
    "    \n",
    "print()\n",
    "\n",
    "optimal_portfolio_return = expected_return(optimal_weights, log_returns)\n",
    "optimal_portfolio_volitility = standard_deviation(optimal_weights, cov_matrix)\n",
    "optimal_sharpe_ratio = sharpe_ratio(optimal_weights, log_returns, cov_matrix, risk_free_rate)\n",
    "\n",
    "print(f\"Expected annual return: {optimal_portfolio_return:.2%}\")\n",
    "print(f\"Annual volatility: {optimal_portfolio_volitility:.2%}\")\n",
    "print(f\"Sharpe Ratio: {optimal_sharpe_ratio:.2f}\")"
   ]
  },
  {
   "cell_type": "code",
   "execution_count": 27,
   "id": "94d81c9e",
   "metadata": {},
   "outputs": [
    {
     "data": {
      "image/png": "[encoded data removed]",
      "text/plain": [
       "<Figure size 1000x600 with 1 Axes>"
      ]
     },
     "metadata": {},
     "output_type": "display_data"
    }
   ],
   "source": [
    "import matplotlib.pyplot as plt\n",
    "plt.figure(figsize=(10, 6))\n",
    "plt.bar(tickers, optimal_weights, color='skyblue')\n",
    "plt.xlabel('Assets')\n",
    "plt.ylabel('Optimal Weights')\n",
    "plt.title('Optimal Portfolio Weights')\n",
    "plt.show()"
   ]
  }
 ],
 "metadata": {
  "kernelspec": {
   "display_name": ".venv",
   "language": "python",
   "name": "python3"
  },
  "language_info": {
   "codemirror_mode": {
    "name": "ipython",
    "version": 3
   },
   "file_extension": ".py",
   "mimetype": "text/x-python",
   "name": "python",
   "nbconvert_exporter": "python",
   "pygments_lexer": "ipython3",
   "version": "3.11.1"
  }
 },
 "nbformat": 4,
 "nbformat_minor": 5
}
